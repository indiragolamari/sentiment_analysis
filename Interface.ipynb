{
 "cells": [
  {
   "cell_type": "code",
   "execution_count": 1,
   "id": "4339f911-5524-4cd4-afb8-f62cdfefa5c6",
   "metadata": {},
   "outputs": [],
   "source": [
    "import pandas as pd\n",
    "import numpy as np\n",
    "import streamlit as st\n",
    "import pickle\n",
    "import warnings\n",
    "warnings.filterwarnings('ignore')"
   ]
  },
  {
   "cell_type": "code",
   "execution_count": 2,
   "id": "f95f3864-3561-4773-a333-79dafdf442b4",
   "metadata": {},
   "outputs": [],
   "source": [
    "model = pickle.load(open('Dep.pkl', 'rb'))"
   ]
  },
  {
   "cell_type": "code",
   "execution_count": 10,
   "id": "f59e826d-917b-4a68-877d-0036a466ac7e",
   "metadata": {},
   "outputs": [
    {
     "data": {
      "text/plain": [
       "DeltaGenerator()"
      ]
     },
     "execution_count": 10,
     "metadata": {},
     "output_type": "execute_result"
    }
   ],
   "source": [
    "st.title('Sentiment Analysis App')"
   ]
  },
  {
   "cell_type": "code",
   "execution_count": 4,
   "id": "3dfb579c-4ed6-44ed-9263-3f93365a6621",
   "metadata": {},
   "outputs": [
    {
     "name": "stderr",
     "output_type": "stream",
     "text": [
      "2025-06-05 23:02:09.201 Session state does not function when running a script without `streamlit run`\n"
     ]
    }
   ],
   "source": [
    "user_input = st.text_input(\"Enter your review:\")"
   ]
  },
  {
   "cell_type": "code",
   "execution_count": 7,
   "id": "6a99111e-5d8b-447b-a010-b2a3aff2b821",
   "metadata": {},
   "outputs": [],
   "source": [
    "# input_data = np.array([user_input])"
   ]
  },
  {
   "cell_type": "code",
   "execution_count": 8,
   "id": "524a7463-7762-4f88-b750-3d0652af195c",
   "metadata": {},
   "outputs": [],
   "source": [
    "# # Prediction\n",
    "# prediction = model.predict(input_data)[0]\n",
    "# probability = model.predict_proba(input_data)[0][1]"
   ]
  },
  {
   "cell_type": "code",
   "execution_count": 9,
   "id": "0aab71a4-be27-458a-a0cc-9041f28f8205",
   "metadata": {},
   "outputs": [],
   "source": [
    "# # Display output\n",
    "# st.subheader(\"Prediction\")\n",
    "# st.write(f\"Sentiment in this Sentence is:   {prediction}\")\n",
    "# # st.write(f\"Survival Probability: {probability:.2f}\")"
   ]
  },
  {
   "cell_type": "code",
   "execution_count": 12,
   "id": "96fad0d1-6db3-466b-a0c8-b81f614bfa6b",
   "metadata": {},
   "outputs": [],
   "source": [
    "# Only show output after user types something\n",
    "if user_input:\n",
    "    input_data = np.array([user_input])\n",
    "\n",
    "    # Prediction\n",
    "    prediction = model.predict(input_data)[0]\n",
    "    probability = model.predict_proba(input_data)[0][1]\n",
    "\n",
    "    # Display output\n",
    "    st.markdown(\"---\")\n",
    "    st.subheader(\"🎯 **Prediction Result**\")\n",
    "    st.write(f\"Sentiment in this Sentence is:   {prediction}\")\n",
    "    st.markdown(\"---\")\n",
    "else:\n",
    "    st.info(\"👈 Enter a review above to get the sentiment prediction.\")"
   ]
  },
  {
   "cell_type": "code",
   "execution_count": null,
   "id": "c34b6253-66ae-4cee-ab76-3f2409443f9e",
   "metadata": {},
   "outputs": [],
   "source": []
  }
 ],
 "metadata": {
  "kernelspec": {
   "display_name": "Python [conda env:base] *",
   "language": "python",
   "name": "conda-base-py"
  },
  "language_info": {
   "codemirror_mode": {
    "name": "ipython",
    "version": 3
   },
   "file_extension": ".py",
   "mimetype": "text/x-python",
   "name": "python",
   "nbconvert_exporter": "python",
   "pygments_lexer": "ipython3",
   "version": "3.12.7"
  }
 },
 "nbformat": 4,
 "nbformat_minor": 5
}
